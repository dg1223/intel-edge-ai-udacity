{
 "cells": [
  {
   "cell_type": "code",
   "execution_count": 1,
   "metadata": {},
   "outputs": [],
   "source": [
    "import cv2\n",
    "import numpy as np"
   ]
  },
  {
   "cell_type": "code",
   "execution_count": 2,
   "metadata": {},
   "outputs": [
    {
     "data": {
      "text/plain": [
       "'/home/shamir/Documents/GitHub/intel-edge-ai-udacity'"
      ]
     },
     "execution_count": 2,
     "metadata": {},
     "output_type": "execute_result"
    }
   ],
   "source": [
    "pwd"
   ]
  },
  {
   "cell_type": "code",
   "execution_count": 5,
   "metadata": {},
   "outputs": [
    {
     "name": "stdout",
     "output_type": "stream",
     "text": [
      "(750, 1000, 3)\n"
     ]
    },
    {
     "data": {
      "text/plain": [
       "-1"
      ]
     },
     "execution_count": 5,
     "metadata": {},
     "output_type": "execute_result"
    }
   ],
   "source": [
    "img = cv2.imread('sitting-on-car.jpg', 1)\n",
    "print(img.shape)\n",
    "cv2.imshow('img', img)\n",
    "cv2.waitKey(0)\n",
    "cv2.destroyAllWindows()\n",
    "cv2.waitKey(1)"
   ]
  },
  {
   "cell_type": "code",
   "execution_count": 7,
   "metadata": {},
   "outputs": [],
   "source": [
    "img_b = img[:,:,0]\n",
    "img_g = img[:,:,1]\n",
    "img_r = img[:,:,2]"
   ]
  },
  {
   "cell_type": "code",
   "execution_count": 8,
   "metadata": {},
   "outputs": [
    {
     "data": {
      "text/plain": [
       "(1, 3, 750, 1000)"
      ]
     },
     "execution_count": 8,
     "metadata": {},
     "output_type": "execute_result"
    }
   ],
   "source": [
    "img_ch1 = np.array([[img_b], [img_g], [img_r]]).reshape(1, -1, img.shape[0], img.shape[1])\n",
    "img_ch1.shape"
   ]
  },
  {
   "cell_type": "code",
   "execution_count": 9,
   "metadata": {},
   "outputs": [
    {
     "data": {
      "text/plain": [
       "(3, 1, 750, 1000)"
      ]
     },
     "execution_count": 9,
     "metadata": {},
     "output_type": "execute_result"
    }
   ],
   "source": [
    "np.array([[img_b], [img_g], [img_r]]).shape"
   ]
  },
  {
   "cell_type": "code",
   "execution_count": 12,
   "metadata": {},
   "outputs": [
    {
     "data": {
      "text/plain": [
       "(456, 256, 3)"
      ]
     },
     "execution_count": 12,
     "metadata": {},
     "output_type": "execute_result"
    }
   ],
   "source": [
    "cv2.resize(img,(256,456)).shape"
   ]
  },
  {
   "cell_type": "code",
   "execution_count": 15,
   "metadata": {},
   "outputs": [],
   "source": [
    "def reshape_img(image, height, width):\n",
    "    '''\n",
    "    Given an input image of shape WxHxC, this function will reshape it to\n",
    "    the shape BxCxHxW, where:\n",
    "    \n",
    "    B - batch size\n",
    "    C - number of channels\n",
    "    H - image height\n",
    "    W - image width\n",
    "    \n",
    "    Expected image shape: WxHxC; e.g. [750, 1000, 3]\n",
    "    Expected colour order: BGR\n",
    "    \n",
    "    Output shape: BxCxHxW; e.g. [1, 3, 256, 456]\n",
    "                  --> if H = 256, W = 456\n",
    "    '''\n",
    "    \n",
    "    b = image[:,:,0]\n",
    "    g = image[:,:,1]\n",
    "    r = image[:,:,2]\n",
    "    \n",
    "    channel_first = np.array([ [b], [g], [r] ]) #shape: CxBxHxW\n",
    "    \n",
    "    #height = image.shape[0]\n",
    "    #width = image.shape[1]\n",
    "    \n",
    "    # resize image\n",
    "    image = cv2.resize(image, (height, width) )\n",
    "    \n",
    "    # transpose image because openCV messes things up...sadly\n",
    "    image = image.transpose((2,0,1))\n",
    "    \n",
    "    # reshape image as BxCxHxW\n",
    "    image = image.reshape(1, image.shape[0], height, width)    \n",
    "    \n",
    "    return image"
   ]
  },
  {
   "cell_type": "code",
   "execution_count": 18,
   "metadata": {},
   "outputs": [
    {
     "data": {
      "text/plain": [
       "(1, 3, 256, 456)"
      ]
     },
     "execution_count": 18,
     "metadata": {},
     "output_type": "execute_result"
    }
   ],
   "source": [
    "reshape_img(img, 256, 456).shape"
   ]
  },
  {
   "cell_type": "code",
   "execution_count": null,
   "metadata": {},
   "outputs": [],
   "source": []
  }
 ],
 "metadata": {
  "kernelspec": {
   "display_name": "Python 3",
   "language": "python",
   "name": "python3"
  },
  "language_info": {
   "codemirror_mode": {
    "name": "ipython",
    "version": 3
   },
   "file_extension": ".py",
   "mimetype": "text/x-python",
   "name": "python",
   "nbconvert_exporter": "python",
   "pygments_lexer": "ipython3",
   "version": "3.7.4"
  }
 },
 "nbformat": 4,
 "nbformat_minor": 2
}
